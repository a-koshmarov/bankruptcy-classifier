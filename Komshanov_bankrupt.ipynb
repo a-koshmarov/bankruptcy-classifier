{
 "cells": [
  {
   "cell_type": "code",
   "execution_count": 51,
   "metadata": {},
   "outputs": [],
   "source": [
    "import os\n",
    "from pprint import pprint\n",
    "import pickle\n",
    "import pandas as pd\n",
    "import numpy as np\n",
    "import matplotlib.pyplot as plt\n",
    "import seaborn as sns\n",
    "from collections import defaultdict\n",
    "from imblearn.over_sampling import SMOTE\n",
    "from imblearn.pipeline import make_pipeline\n",
    "from sklearn.preprocessing import StandardScaler, MinMaxScaler\n",
    "from sklearn.model_selection import train_test_split, StratifiedKFold, RandomizedSearchCV\n",
    "from sklearn.feature_selection import SelectFromModel, mutual_info_classif, f_classif, SelectKBest\n",
    "from sklearn.metrics import confusion_matrix, accuracy_score, precision_score, recall_score, f1_score, roc_auc_score, roc_curve, classification_report"
   ]
  },
  {
   "cell_type": "markdown",
   "metadata": {},
   "source": [
    "## Предобработка данных"
   ]
  },
  {
   "cell_type": "code",
   "execution_count": 2,
   "metadata": {},
   "outputs": [],
   "source": [
    "acc = pd.read_csv('df_accounts_sample.csv', index_col=0).sort_values(by=['inn', 'year'])\n",
    "acc['bankrupt'] = 0\n",
    "bkrpt = pd.read_csv('df_bankruptcies_sample.csv', index_col=0).sort_values(by=['inn', 'bancrupt_year'])"
   ]
  },
  {
   "cell_type": "code",
   "execution_count": 167,
   "metadata": {},
   "outputs": [
    {
     "name": "stdout",
     "output_type": "stream",
     "text": [
      "Кол-во компаний: 166\n"
     ]
    }
   ],
   "source": [
    "print(f\"Кол-во компаний: {len(acc.groupby('inn'))}\")"
   ]
  },
  {
   "cell_type": "markdown",
   "metadata": {},
   "source": [
    "Распределение по кол-ву лет, которые работала компания"
   ]
  },
  {
   "cell_type": "code",
   "execution_count": 4,
   "metadata": {},
   "outputs": [
    {
     "data": {
      "text/plain": [
       "array([[<AxesSubplot:title={'center':'num_of_years'}>]], dtype=object)"
      ]
     },
     "execution_count": 4,
     "metadata": {},
     "output_type": "execute_result"
    },
    {
     "data": {
      "image/png": "[encoded data removed]",
      "text/plain": [
       "<Figure size 720x432 with 1 Axes>"
      ]
     },
     "metadata": {
      "needs_background": "light"
     },
     "output_type": "display_data"
    }
   ],
   "source": [
    "years = acc.groupby('inn')['year'].count().to_frame()\n",
    "years.rename(columns={'year':'num_of_years'}, inplace=True)\n",
    "years.hist(figsize=(10,6))"
   ]
  },
  {
   "cell_type": "markdown",
   "metadata": {},
   "source": [
    "Расчитаем средние показатели по каждой компании"
   ]
  },
  {
   "cell_type": "code",
   "execution_count": 5,
   "metadata": {
    "tags": []
   },
   "outputs": [
    {
     "data": {
      "text/html": [
       "<div>\n",
       "<style scoped>\n",
       "    .dataframe tbody tr th:only-of-type {\n",
       "        vertical-align: middle;\n",
       "    }\n",
       "\n",
       "    .dataframe tbody tr th {\n",
       "        vertical-align: top;\n",
       "    }\n",
       "\n",
       "    .dataframe thead th {\n",
       "        text-align: right;\n",
       "    }\n",
       "</style>\n",
       "<table border=\"1\" class=\"dataframe\">\n",
       "  <thead>\n",
       "    <tr style=\"text-align: right;\">\n",
       "      <th></th>\n",
       "      <th>inn</th>\n",
       "      <th>avgLTL</th>\n",
       "      <th>avgSTL</th>\n",
       "      <th>avgAssets</th>\n",
       "    </tr>\n",
       "  </thead>\n",
       "  <tbody>\n",
       "    <tr>\n",
       "      <th>0</th>\n",
       "      <td>1001003743</td>\n",
       "      <td>0.000000</td>\n",
       "      <td>2520.875000</td>\n",
       "      <td>5411.625000</td>\n",
       "    </tr>\n",
       "    <tr>\n",
       "      <th>1</th>\n",
       "      <td>1020010136</td>\n",
       "      <td>0.000000</td>\n",
       "      <td>28033.500000</td>\n",
       "      <td>11333.750000</td>\n",
       "    </tr>\n",
       "    <tr>\n",
       "      <th>2</th>\n",
       "      <td>1203000142</td>\n",
       "      <td>142806.000000</td>\n",
       "      <td>264435.250000</td>\n",
       "      <td>482090.500000</td>\n",
       "    </tr>\n",
       "    <tr>\n",
       "      <th>3</th>\n",
       "      <td>1302000640</td>\n",
       "      <td>2465.333333</td>\n",
       "      <td>14792.666667</td>\n",
       "      <td>28078.666667</td>\n",
       "    </tr>\n",
       "    <tr>\n",
       "      <th>4</th>\n",
       "      <td>1411004211</td>\n",
       "      <td>42454.333333</td>\n",
       "      <td>34764.166667</td>\n",
       "      <td>137146.500000</td>\n",
       "    </tr>\n",
       "    <tr>\n",
       "      <th>...</th>\n",
       "      <td>...</td>\n",
       "      <td>...</td>\n",
       "      <td>...</td>\n",
       "      <td>...</td>\n",
       "    </tr>\n",
       "    <tr>\n",
       "      <th>161</th>\n",
       "      <td>8617004112</td>\n",
       "      <td>0.000000</td>\n",
       "      <td>3333.750000</td>\n",
       "      <td>4419.000000</td>\n",
       "    </tr>\n",
       "    <tr>\n",
       "      <th>162</th>\n",
       "      <td>8901998318</td>\n",
       "      <td>0.000000</td>\n",
       "      <td>233.200000</td>\n",
       "      <td>279.600000</td>\n",
       "    </tr>\n",
       "    <tr>\n",
       "      <th>163</th>\n",
       "      <td>8908001998</td>\n",
       "      <td>0.000000</td>\n",
       "      <td>9317.777778</td>\n",
       "      <td>83812.888889</td>\n",
       "    </tr>\n",
       "    <tr>\n",
       "      <th>164</th>\n",
       "      <td>8909000186</td>\n",
       "      <td>10.500000</td>\n",
       "      <td>13456.500000</td>\n",
       "      <td>27238.750000</td>\n",
       "    </tr>\n",
       "    <tr>\n",
       "      <th>165</th>\n",
       "      <td>9102060446</td>\n",
       "      <td>24095.714286</td>\n",
       "      <td>136165.857143</td>\n",
       "      <td>219809.285714</td>\n",
       "    </tr>\n",
       "  </tbody>\n",
       "</table>\n",
       "<p>166 rows × 4 columns</p>\n",
       "</div>"
      ],
      "text/plain": [
       "            inn         avgLTL         avgSTL      avgAssets\n",
       "0    1001003743       0.000000    2520.875000    5411.625000\n",
       "1    1020010136       0.000000   28033.500000   11333.750000\n",
       "2    1203000142  142806.000000  264435.250000  482090.500000\n",
       "3    1302000640    2465.333333   14792.666667   28078.666667\n",
       "4    1411004211   42454.333333   34764.166667  137146.500000\n",
       "..          ...            ...            ...            ...\n",
       "161  8617004112       0.000000    3333.750000    4419.000000\n",
       "162  8901998318       0.000000     233.200000     279.600000\n",
       "163  8908001998       0.000000    9317.777778   83812.888889\n",
       "164  8909000186      10.500000   13456.500000   27238.750000\n",
       "165  9102060446   24095.714286  136165.857143  219809.285714\n",
       "\n",
       "[166 rows x 4 columns]"
      ]
     },
     "execution_count": 5,
     "metadata": {},
     "output_type": "execute_result"
    }
   ],
   "source": [
    "acc_agg = acc.groupby('inn').agg(\n",
    "    avgLTL = pd.NamedAgg(column = 'long_term_liabilities_fiscal_year', aggfunc = 'mean'),\n",
    "    avgSTL = pd.NamedAgg(column = 'short_term_liabilities_fiscal_year', aggfunc = 'mean'),\n",
    "    avgAssets = pd.NamedAgg(column = 'balance_assets_fiscal_year', aggfunc = 'mean'),\n",
    ")\n",
    "acc_agg.reset_index(inplace=True)\n",
    "acc_agg"
   ]
  },
  {
   "cell_type": "markdown",
   "metadata": {},
   "source": [
    "Добавим новые фичи:\n",
    "- SL/A: Short Term Liabilities / Assets\n",
    "- LL/A: Long Term Liabilities / Assets\n",
    "- bankrupt - целевая переменная"
   ]
  },
  {
   "cell_type": "code",
   "execution_count": 6,
   "metadata": {},
   "outputs": [
    {
     "data": {
      "text/html": [
       "<div>\n",
       "<style scoped>\n",
       "    .dataframe tbody tr th:only-of-type {\n",
       "        vertical-align: middle;\n",
       "    }\n",
       "\n",
       "    .dataframe tbody tr th {\n",
       "        vertical-align: top;\n",
       "    }\n",
       "\n",
       "    .dataframe thead th {\n",
       "        text-align: right;\n",
       "    }\n",
       "</style>\n",
       "<table border=\"1\" class=\"dataframe\">\n",
       "  <thead>\n",
       "    <tr style=\"text-align: right;\">\n",
       "      <th></th>\n",
       "      <th>inn</th>\n",
       "      <th>avgLTL</th>\n",
       "      <th>avgSTL</th>\n",
       "      <th>avgAssets</th>\n",
       "      <th>SL/A</th>\n",
       "      <th>LL/A</th>\n",
       "      <th>bankrupt</th>\n",
       "    </tr>\n",
       "  </thead>\n",
       "  <tbody>\n",
       "    <tr>\n",
       "      <th>count</th>\n",
       "      <td>1.660000e+02</td>\n",
       "      <td>1.660000e+02</td>\n",
       "      <td>1.660000e+02</td>\n",
       "      <td>1.660000e+02</td>\n",
       "      <td>166.000000</td>\n",
       "      <td>166.000000</td>\n",
       "      <td>166.0</td>\n",
       "    </tr>\n",
       "    <tr>\n",
       "      <th>mean</th>\n",
       "      <td>5.131689e+09</td>\n",
       "      <td>7.933706e+04</td>\n",
       "      <td>9.765644e+04</td>\n",
       "      <td>1.959457e+05</td>\n",
       "      <td>1.211455</td>\n",
       "      <td>0.132026</td>\n",
       "      <td>0.0</td>\n",
       "    </tr>\n",
       "    <tr>\n",
       "      <th>std</th>\n",
       "      <td>2.176713e+09</td>\n",
       "      <td>6.514206e+05</td>\n",
       "      <td>3.308873e+05</td>\n",
       "      <td>8.085340e+05</td>\n",
       "      <td>2.666510</td>\n",
       "      <td>0.353237</td>\n",
       "      <td>0.0</td>\n",
       "    </tr>\n",
       "    <tr>\n",
       "      <th>min</th>\n",
       "      <td>1.001004e+09</td>\n",
       "      <td>0.000000e+00</td>\n",
       "      <td>0.000000e+00</td>\n",
       "      <td>6.666667e+00</td>\n",
       "      <td>0.000000</td>\n",
       "      <td>0.000000</td>\n",
       "      <td>0.0</td>\n",
       "    </tr>\n",
       "    <tr>\n",
       "      <th>25%</th>\n",
       "      <td>3.411299e+09</td>\n",
       "      <td>0.000000e+00</td>\n",
       "      <td>2.405488e+03</td>\n",
       "      <td>4.682869e+03</td>\n",
       "      <td>0.305258</td>\n",
       "      <td>0.000000</td>\n",
       "      <td>0.0</td>\n",
       "    </tr>\n",
       "    <tr>\n",
       "      <th>50%</th>\n",
       "      <td>5.410220e+09</td>\n",
       "      <td>0.000000e+00</td>\n",
       "      <td>9.694083e+03</td>\n",
       "      <td>2.025571e+04</td>\n",
       "      <td>0.644691</td>\n",
       "      <td>0.000000</td>\n",
       "      <td>0.0</td>\n",
       "    </tr>\n",
       "    <tr>\n",
       "      <th>75%</th>\n",
       "      <td>7.079508e+09</td>\n",
       "      <td>2.887938e+03</td>\n",
       "      <td>4.642927e+04</td>\n",
       "      <td>8.593272e+04</td>\n",
       "      <td>1.121068</td>\n",
       "      <td>0.076790</td>\n",
       "      <td>0.0</td>\n",
       "    </tr>\n",
       "    <tr>\n",
       "      <th>max</th>\n",
       "      <td>9.102060e+09</td>\n",
       "      <td>8.191701e+06</td>\n",
       "      <td>3.033256e+06</td>\n",
       "      <td>8.454400e+06</td>\n",
       "      <td>22.496451</td>\n",
       "      <td>2.897274</td>\n",
       "      <td>0.0</td>\n",
       "    </tr>\n",
       "  </tbody>\n",
       "</table>\n",
       "</div>"
      ],
      "text/plain": [
       "                inn        avgLTL        avgSTL     avgAssets        SL/A  \\\n",
       "count  1.660000e+02  1.660000e+02  1.660000e+02  1.660000e+02  166.000000   \n",
       "mean   5.131689e+09  7.933706e+04  9.765644e+04  1.959457e+05    1.211455   \n",
       "std    2.176713e+09  6.514206e+05  3.308873e+05  8.085340e+05    2.666510   \n",
       "min    1.001004e+09  0.000000e+00  0.000000e+00  6.666667e+00    0.000000   \n",
       "25%    3.411299e+09  0.000000e+00  2.405488e+03  4.682869e+03    0.305258   \n",
       "50%    5.410220e+09  0.000000e+00  9.694083e+03  2.025571e+04    0.644691   \n",
       "75%    7.079508e+09  2.887938e+03  4.642927e+04  8.593272e+04    1.121068   \n",
       "max    9.102060e+09  8.191701e+06  3.033256e+06  8.454400e+06   22.496451   \n",
       "\n",
       "             LL/A  bankrupt  \n",
       "count  166.000000     166.0  \n",
       "mean     0.132026       0.0  \n",
       "std      0.353237       0.0  \n",
       "min      0.000000       0.0  \n",
       "25%      0.000000       0.0  \n",
       "50%      0.000000       0.0  \n",
       "75%      0.076790       0.0  \n",
       "max      2.897274       0.0  "
      ]
     },
     "execution_count": 6,
     "metadata": {},
     "output_type": "execute_result"
    }
   ],
   "source": [
    "acc_agg['SL/A'] = acc_agg.apply(lambda row: row.avgSTL/row.avgAssets, axis=1)\n",
    "acc_agg['LL/A'] = acc_agg.apply(lambda row: row.avgLTL/row.avgAssets, axis=1)\n",
    "acc_agg['bankrupt'] = 0\n",
    "acc_agg.describe()"
   ]
  },
  {
   "cell_type": "markdown",
   "metadata": {},
   "source": [
    "Обновим значения целевой переменнной"
   ]
  },
  {
   "cell_type": "code",
   "execution_count": 7,
   "metadata": {},
   "outputs": [],
   "source": [
    "cnt = 0\n",
    "for _, b_row in bkrpt.iterrows():\n",
    "    for i, a_row in acc_agg.iterrows():\n",
    "        if a_row['inn'] == b_row['inn']:\n",
    "            acc_agg.at[i,'bankrupt'] = 1\n",
    "            cnt += 1"
   ]
  },
  {
   "cell_type": "markdown",
   "metadata": {},
   "source": [
    "Распределение компаний по столбцу bankrupt"
   ]
  },
  {
   "cell_type": "code",
   "execution_count": 8,
   "metadata": {},
   "outputs": [
    {
     "data": {
      "text/plain": [
       "bankrupt\n",
       "0     60\n",
       "1    106\n",
       "Name: inn, dtype: int64"
      ]
     },
     "execution_count": 8,
     "metadata": {},
     "output_type": "execute_result"
    }
   ],
   "source": [
    "acc_agg.groupby('bankrupt')['inn'].count()"
   ]
  },
  {
   "cell_type": "markdown",
   "metadata": {},
   "source": [
    "Выведем график распределения компаний по переменным LL/A и SL/A"
   ]
  },
  {
   "cell_type": "code",
   "execution_count": 172,
   "metadata": {},
   "outputs": [
    {
     "name": "stderr",
     "output_type": "stream",
     "text": [
      "C:\\Users\\Alexander\\anaconda3\\envs\\ml\\lib\\site-packages\\seaborn\\distributions.py:2557: FutureWarning: `distplot` is a deprecated function and will be removed in a future version. Please adapt your code to use either `displot` (a figure-level function with similar flexibility) or `histplot` (an axes-level function for histograms).\n",
      "  warnings.warn(msg, FutureWarning)\n"
     ]
    },
    {
     "data": {
      "image/png": "[encoded data removed]",
      "text/plain": [
       "<Figure size 1008x720 with 2 Axes>"
      ]
     },
     "metadata": {
      "needs_background": "light"
     },
     "output_type": "display_data"
    }
   ],
   "source": [
    "fig, ax = plt.subplots(2, figsize=(14,10))\n",
    "for (name, group), c in zip(acc_agg.groupby('bankrupt'), ['r', 'b']):\n",
    "    sns.distplot(group['LL/A'], ax=ax[0], kde=False, hist=True, color=c, label='bankrupt' if name else 'not bankrupt')\n",
    "    ax[0].legend()\n",
    "    sns.distplot(group['SL/A'], ax=ax[1], kde=False, hist=True, color=c, label=name)"
   ]
  },
  {
   "cell_type": "markdown",
   "metadata": {},
   "source": [
    "Рассчитаем матрицу корреляции признаков"
   ]
  },
  {
   "cell_type": "code",
   "execution_count": 10,
   "metadata": {},
   "outputs": [
    {
     "data": {
      "text/plain": [
       "<AxesSubplot:>"
      ]
     },
     "execution_count": 10,
     "metadata": {},
     "output_type": "execute_result"
    },
    {
     "data": {
      "image/png": "[encoded data removed]",
      "text/plain": [
       "<Figure size 432x288 with 2 Axes>"
      ]
     },
     "metadata": {
      "needs_background": "light"
     },
     "output_type": "display_data"
    }
   ],
   "source": [
    "import seaborn as sns\n",
    "%matplotlib inline\n",
    "\n",
    "corr = acc_agg.drop(['inn', 'bankrupt'], axis=1).corr()\n",
    "\n",
    "sns.heatmap(corr, \n",
    "        xticklabels=corr.columns,\n",
    "        yticklabels=corr.columns,\n",
    "        annot=True)"
   ]
  },
  {
   "cell_type": "markdown",
   "metadata": {},
   "source": [
    "Создадим новые фичи по судебным записям:\n",
    "- num_cases_{0,1,2}: сколько раз компания учавствовала в суде в качестве {истца, ответчика, свидетеля}\n",
    "- cases_lost: процент проигранных дел (в расчет не берутся дела с неопределенным результатом)"
   ]
  },
  {
   "cell_type": "code",
   "execution_count": 11,
   "metadata": {},
   "outputs": [],
   "source": [
    "court_path = 'success/'\n",
    "pkls = [f for f in os.listdir(court_path) if f.endswith('pkl')]\n",
    "cols = ['inn', 'num_cases_0', 'num_cases_1', 'num_cases_2', 'cases_lost']\n",
    "data = []\n",
    "for f in pkls:\n",
    "    d = pickle.load(open(court_path + f, 'rb'))\n",
    "    inn = d['inn']\n",
    "    sides = defaultdict(int)\n",
    "    cases = []\n",
    "    \n",
    "    for case in d['cases_list']:\n",
    "            \n",
    "        for side in case['case_sides']:\n",
    "            if side['INN'] == str(inn):\n",
    "                sides[side['type']] += 1\n",
    "                if side['type'] in (0, 1):\n",
    "                    if case['resultType'] != 'Не удалось определить':\n",
    "                        cases.append(case['resultType']) \n",
    "                        \n",
    "    cases_lost = list(filter(lambda x: x in ('Проиграно', 'Частично проиграно', 'Не выиграно'), cases))\n",
    "    data.append([inn, sides[0], sides[1], sides[2], len(cases_lost)/len(cases) if len(cases) > 0 else 0.0])\n",
    "    \n",
    "#     print(f\"INN: {inn} | {[sides[0], sides[1], sides[2], len(cases_lost)/len(cases) if len(cases) > 0 else 0.0]}\")\n",
    "#     print(cases_lost)     \n",
    "#     print(sides)\n",
    "#     pprint(cases)"
   ]
  },
  {
   "cell_type": "code",
   "execution_count": 12,
   "metadata": {},
   "outputs": [
    {
     "data": {
      "text/html": [
       "<div>\n",
       "<style scoped>\n",
       "    .dataframe tbody tr th:only-of-type {\n",
       "        vertical-align: middle;\n",
       "    }\n",
       "\n",
       "    .dataframe tbody tr th {\n",
       "        vertical-align: top;\n",
       "    }\n",
       "\n",
       "    .dataframe thead th {\n",
       "        text-align: right;\n",
       "    }\n",
       "</style>\n",
       "<table border=\"1\" class=\"dataframe\">\n",
       "  <thead>\n",
       "    <tr style=\"text-align: right;\">\n",
       "      <th></th>\n",
       "      <th>inn</th>\n",
       "      <th>num_cases_0</th>\n",
       "      <th>num_cases_1</th>\n",
       "      <th>num_cases_2</th>\n",
       "      <th>cases_lost</th>\n",
       "    </tr>\n",
       "  </thead>\n",
       "  <tbody>\n",
       "    <tr>\n",
       "      <th>0</th>\n",
       "      <td>1001003743</td>\n",
       "      <td>4</td>\n",
       "      <td>0</td>\n",
       "      <td>0</td>\n",
       "      <td>0.000000</td>\n",
       "    </tr>\n",
       "    <tr>\n",
       "      <th>1</th>\n",
       "      <td>1001227084</td>\n",
       "      <td>0</td>\n",
       "      <td>0</td>\n",
       "      <td>0</td>\n",
       "      <td>0.000000</td>\n",
       "    </tr>\n",
       "    <tr>\n",
       "      <th>2</th>\n",
       "      <td>1020010136</td>\n",
       "      <td>13</td>\n",
       "      <td>68</td>\n",
       "      <td>5</td>\n",
       "      <td>0.694444</td>\n",
       "    </tr>\n",
       "    <tr>\n",
       "      <th>3</th>\n",
       "      <td>1203000142</td>\n",
       "      <td>197</td>\n",
       "      <td>207</td>\n",
       "      <td>31</td>\n",
       "      <td>0.572414</td>\n",
       "    </tr>\n",
       "    <tr>\n",
       "      <th>4</th>\n",
       "      <td>1214002504</td>\n",
       "      <td>0</td>\n",
       "      <td>0</td>\n",
       "      <td>0</td>\n",
       "      <td>0.000000</td>\n",
       "    </tr>\n",
       "    <tr>\n",
       "      <th>...</th>\n",
       "      <td>...</td>\n",
       "      <td>...</td>\n",
       "      <td>...</td>\n",
       "      <td>...</td>\n",
       "      <td>...</td>\n",
       "    </tr>\n",
       "    <tr>\n",
       "      <th>188</th>\n",
       "      <td>8617004112</td>\n",
       "      <td>0</td>\n",
       "      <td>27</td>\n",
       "      <td>1</td>\n",
       "      <td>0.920000</td>\n",
       "    </tr>\n",
       "    <tr>\n",
       "      <th>189</th>\n",
       "      <td>8901998318</td>\n",
       "      <td>0</td>\n",
       "      <td>1</td>\n",
       "      <td>0</td>\n",
       "      <td>0.000000</td>\n",
       "    </tr>\n",
       "    <tr>\n",
       "      <th>190</th>\n",
       "      <td>8908001998</td>\n",
       "      <td>9</td>\n",
       "      <td>20</td>\n",
       "      <td>7</td>\n",
       "      <td>0.500000</td>\n",
       "    </tr>\n",
       "    <tr>\n",
       "      <th>191</th>\n",
       "      <td>8909000186</td>\n",
       "      <td>1</td>\n",
       "      <td>29</td>\n",
       "      <td>0</td>\n",
       "      <td>0.937500</td>\n",
       "    </tr>\n",
       "    <tr>\n",
       "      <th>192</th>\n",
       "      <td>9102060446</td>\n",
       "      <td>1</td>\n",
       "      <td>1</td>\n",
       "      <td>0</td>\n",
       "      <td>0.500000</td>\n",
       "    </tr>\n",
       "  </tbody>\n",
       "</table>\n",
       "<p>193 rows × 5 columns</p>\n",
       "</div>"
      ],
      "text/plain": [
       "            inn  num_cases_0  num_cases_1  num_cases_2  cases_lost\n",
       "0    1001003743            4            0            0    0.000000\n",
       "1    1001227084            0            0            0    0.000000\n",
       "2    1020010136           13           68            5    0.694444\n",
       "3    1203000142          197          207           31    0.572414\n",
       "4    1214002504            0            0            0    0.000000\n",
       "..          ...          ...          ...          ...         ...\n",
       "188  8617004112            0           27            1    0.920000\n",
       "189  8901998318            0            1            0    0.000000\n",
       "190  8908001998            9           20            7    0.500000\n",
       "191  8909000186            1           29            0    0.937500\n",
       "192  9102060446            1            1            0    0.500000\n",
       "\n",
       "[193 rows x 5 columns]"
      ]
     },
     "execution_count": 12,
     "metadata": {},
     "output_type": "execute_result"
    }
   ],
   "source": [
    "cases = pd.DataFrame(data, columns=cols)\n",
    "cases"
   ]
  },
  {
   "cell_type": "markdown",
   "metadata": {},
   "source": [
    "Объеденим датасеты по ИНН компании"
   ]
  },
  {
   "cell_type": "code",
   "execution_count": 13,
   "metadata": {},
   "outputs": [
    {
     "name": "stderr",
     "output_type": "stream",
     "text": [
      "C:\\Users\\Alexander\\anaconda3\\envs\\ml\\lib\\site-packages\\seaborn\\distributions.py:2557: FutureWarning: `distplot` is a deprecated function and will be removed in a future version. Please adapt your code to use either `displot` (a figure-level function with similar flexibility) or `histplot` (an axes-level function for histograms).\n",
      "  warnings.warn(msg, FutureWarning)\n"
     ]
    },
    {
     "data": {
      "image/png": "[encoded data removed]",
      "text/plain": [
       "<Figure size 1008x720 with 2 Axes>"
      ]
     },
     "metadata": {
      "needs_background": "light"
     },
     "output_type": "display_data"
    }
   ],
   "source": [
    "acc_merged = pd.merge(acc_agg, cases, how='left', on='inn')\n",
    "fig, ax = plt.subplots(2, figsize=(14,10))\n",
    "for (name, group), c in zip(acc_merged.groupby('bankrupt'), ['r', 'b']):\n",
    "    sns.distplot(group['cases_lost'], ax=ax[0], kde=False, hist=True, color=c, label='bankrupt' if name else 'not bankrupt')\n",
    "    ax[0].legend()\n",
    "    sns.distplot(group['num_cases_1'], ax=ax[1], kde=False, hist=True, color=c, label=name)"
   ]
  },
  {
   "cell_type": "markdown",
   "metadata": {},
   "source": [
    "## Создание датасета"
   ]
  },
  {
   "cell_type": "code",
   "execution_count": 133,
   "metadata": {},
   "outputs": [
    {
     "data": {
      "text/html": [
       "<div>\n",
       "<style scoped>\n",
       "    .dataframe tbody tr th:only-of-type {\n",
       "        vertical-align: middle;\n",
       "    }\n",
       "\n",
       "    .dataframe tbody tr th {\n",
       "        vertical-align: top;\n",
       "    }\n",
       "\n",
       "    .dataframe thead th {\n",
       "        text-align: right;\n",
       "    }\n",
       "</style>\n",
       "<table border=\"1\" class=\"dataframe\">\n",
       "  <thead>\n",
       "    <tr style=\"text-align: right;\">\n",
       "      <th></th>\n",
       "      <th>avgLTL</th>\n",
       "      <th>avgSTL</th>\n",
       "      <th>avgAssets</th>\n",
       "      <th>SL/A</th>\n",
       "      <th>LL/A</th>\n",
       "      <th>num_cases_0</th>\n",
       "      <th>num_cases_1</th>\n",
       "      <th>num_cases_2</th>\n",
       "      <th>cases_lost</th>\n",
       "    </tr>\n",
       "  </thead>\n",
       "  <tbody>\n",
       "    <tr>\n",
       "      <th>0</th>\n",
       "      <td>0.000000</td>\n",
       "      <td>2520.875000</td>\n",
       "      <td>5411.625000</td>\n",
       "      <td>0.465826</td>\n",
       "      <td>0.000000</td>\n",
       "      <td>4</td>\n",
       "      <td>0</td>\n",
       "      <td>0</td>\n",
       "      <td>0.000000</td>\n",
       "    </tr>\n",
       "    <tr>\n",
       "      <th>1</th>\n",
       "      <td>0.000000</td>\n",
       "      <td>28033.500000</td>\n",
       "      <td>11333.750000</td>\n",
       "      <td>2.473453</td>\n",
       "      <td>0.000000</td>\n",
       "      <td>13</td>\n",
       "      <td>68</td>\n",
       "      <td>5</td>\n",
       "      <td>0.694444</td>\n",
       "    </tr>\n",
       "    <tr>\n",
       "      <th>2</th>\n",
       "      <td>142806.000000</td>\n",
       "      <td>264435.250000</td>\n",
       "      <td>482090.500000</td>\n",
       "      <td>0.548518</td>\n",
       "      <td>0.296222</td>\n",
       "      <td>197</td>\n",
       "      <td>207</td>\n",
       "      <td>31</td>\n",
       "      <td>0.572414</td>\n",
       "    </tr>\n",
       "    <tr>\n",
       "      <th>3</th>\n",
       "      <td>2465.333333</td>\n",
       "      <td>14792.666667</td>\n",
       "      <td>28078.666667</td>\n",
       "      <td>0.526829</td>\n",
       "      <td>0.087801</td>\n",
       "      <td>3</td>\n",
       "      <td>6</td>\n",
       "      <td>0</td>\n",
       "      <td>1.000000</td>\n",
       "    </tr>\n",
       "    <tr>\n",
       "      <th>4</th>\n",
       "      <td>42454.333333</td>\n",
       "      <td>34764.166667</td>\n",
       "      <td>137146.500000</td>\n",
       "      <td>0.253482</td>\n",
       "      <td>0.309555</td>\n",
       "      <td>2</td>\n",
       "      <td>15</td>\n",
       "      <td>3</td>\n",
       "      <td>0.923077</td>\n",
       "    </tr>\n",
       "    <tr>\n",
       "      <th>...</th>\n",
       "      <td>...</td>\n",
       "      <td>...</td>\n",
       "      <td>...</td>\n",
       "      <td>...</td>\n",
       "      <td>...</td>\n",
       "      <td>...</td>\n",
       "      <td>...</td>\n",
       "      <td>...</td>\n",
       "      <td>...</td>\n",
       "    </tr>\n",
       "    <tr>\n",
       "      <th>161</th>\n",
       "      <td>0.000000</td>\n",
       "      <td>3333.750000</td>\n",
       "      <td>4419.000000</td>\n",
       "      <td>0.754413</td>\n",
       "      <td>0.000000</td>\n",
       "      <td>0</td>\n",
       "      <td>27</td>\n",
       "      <td>1</td>\n",
       "      <td>0.920000</td>\n",
       "    </tr>\n",
       "    <tr>\n",
       "      <th>162</th>\n",
       "      <td>0.000000</td>\n",
       "      <td>233.200000</td>\n",
       "      <td>279.600000</td>\n",
       "      <td>0.834049</td>\n",
       "      <td>0.000000</td>\n",
       "      <td>0</td>\n",
       "      <td>1</td>\n",
       "      <td>0</td>\n",
       "      <td>0.000000</td>\n",
       "    </tr>\n",
       "    <tr>\n",
       "      <th>163</th>\n",
       "      <td>0.000000</td>\n",
       "      <td>9317.777778</td>\n",
       "      <td>83812.888889</td>\n",
       "      <td>0.111174</td>\n",
       "      <td>0.000000</td>\n",
       "      <td>9</td>\n",
       "      <td>20</td>\n",
       "      <td>7</td>\n",
       "      <td>0.500000</td>\n",
       "    </tr>\n",
       "    <tr>\n",
       "      <th>164</th>\n",
       "      <td>10.500000</td>\n",
       "      <td>13456.500000</td>\n",
       "      <td>27238.750000</td>\n",
       "      <td>0.494020</td>\n",
       "      <td>0.000385</td>\n",
       "      <td>1</td>\n",
       "      <td>29</td>\n",
       "      <td>0</td>\n",
       "      <td>0.937500</td>\n",
       "    </tr>\n",
       "    <tr>\n",
       "      <th>165</th>\n",
       "      <td>24095.714286</td>\n",
       "      <td>136165.857143</td>\n",
       "      <td>219809.285714</td>\n",
       "      <td>0.619473</td>\n",
       "      <td>0.109621</td>\n",
       "      <td>1</td>\n",
       "      <td>1</td>\n",
       "      <td>0</td>\n",
       "      <td>0.500000</td>\n",
       "    </tr>\n",
       "  </tbody>\n",
       "</table>\n",
       "<p>166 rows × 9 columns</p>\n",
       "</div>"
      ],
      "text/plain": [
       "            avgLTL         avgSTL      avgAssets      SL/A      LL/A  \\\n",
       "0         0.000000    2520.875000    5411.625000  0.465826  0.000000   \n",
       "1         0.000000   28033.500000   11333.750000  2.473453  0.000000   \n",
       "2    142806.000000  264435.250000  482090.500000  0.548518  0.296222   \n",
       "3      2465.333333   14792.666667   28078.666667  0.526829  0.087801   \n",
       "4     42454.333333   34764.166667  137146.500000  0.253482  0.309555   \n",
       "..             ...            ...            ...       ...       ...   \n",
       "161       0.000000    3333.750000    4419.000000  0.754413  0.000000   \n",
       "162       0.000000     233.200000     279.600000  0.834049  0.000000   \n",
       "163       0.000000    9317.777778   83812.888889  0.111174  0.000000   \n",
       "164      10.500000   13456.500000   27238.750000  0.494020  0.000385   \n",
       "165   24095.714286  136165.857143  219809.285714  0.619473  0.109621   \n",
       "\n",
       "     num_cases_0  num_cases_1  num_cases_2  cases_lost  \n",
       "0              4            0            0    0.000000  \n",
       "1             13           68            5    0.694444  \n",
       "2            197          207           31    0.572414  \n",
       "3              3            6            0    1.000000  \n",
       "4              2           15            3    0.923077  \n",
       "..           ...          ...          ...         ...  \n",
       "161            0           27            1    0.920000  \n",
       "162            0            1            0    0.000000  \n",
       "163            9           20            7    0.500000  \n",
       "164            1           29            0    0.937500  \n",
       "165            1            1            0    0.500000  \n",
       "\n",
       "[166 rows x 9 columns]"
      ]
     },
     "execution_count": 133,
     "metadata": {},
     "output_type": "execute_result"
    }
   ],
   "source": [
    "y = acc_merged['bankrupt']\n",
    "X = acc_merged.drop(['bankrupt', 'inn'], axis=1)\n",
    "X"
   ]
  },
  {
   "cell_type": "markdown",
   "metadata": {},
   "source": [
    "Разделим датасет на train/test (для теста оставим 10% данных)"
   ]
  },
  {
   "cell_type": "code",
   "execution_count": 148,
   "metadata": {},
   "outputs": [
    {
     "data": {
      "text/html": [
       "<div>\n",
       "<style scoped>\n",
       "    .dataframe tbody tr th:only-of-type {\n",
       "        vertical-align: middle;\n",
       "    }\n",
       "\n",
       "    .dataframe tbody tr th {\n",
       "        vertical-align: top;\n",
       "    }\n",
       "\n",
       "    .dataframe thead th {\n",
       "        text-align: right;\n",
       "    }\n",
       "</style>\n",
       "<table border=\"1\" class=\"dataframe\">\n",
       "  <thead>\n",
       "    <tr style=\"text-align: right;\">\n",
       "      <th></th>\n",
       "      <th>SL/A</th>\n",
       "      <th>LL/A</th>\n",
       "      <th>num_cases_0</th>\n",
       "      <th>num_cases_1</th>\n",
       "      <th>num_cases_2</th>\n",
       "      <th>cases_lost</th>\n",
       "    </tr>\n",
       "  </thead>\n",
       "  <tbody>\n",
       "    <tr>\n",
       "      <th>69</th>\n",
       "      <td>1.285121</td>\n",
       "      <td>0.059938</td>\n",
       "      <td>9</td>\n",
       "      <td>36</td>\n",
       "      <td>6</td>\n",
       "      <td>0.818182</td>\n",
       "    </tr>\n",
       "    <tr>\n",
       "      <th>26</th>\n",
       "      <td>0.753591</td>\n",
       "      <td>0.000000</td>\n",
       "      <td>61</td>\n",
       "      <td>62</td>\n",
       "      <td>9</td>\n",
       "      <td>0.581395</td>\n",
       "    </tr>\n",
       "    <tr>\n",
       "      <th>131</th>\n",
       "      <td>0.644236</td>\n",
       "      <td>0.347247</td>\n",
       "      <td>13</td>\n",
       "      <td>10</td>\n",
       "      <td>0</td>\n",
       "      <td>1.000000</td>\n",
       "    </tr>\n",
       "    <tr>\n",
       "      <th>60</th>\n",
       "      <td>2.603160</td>\n",
       "      <td>0.000000</td>\n",
       "      <td>0</td>\n",
       "      <td>36</td>\n",
       "      <td>2</td>\n",
       "      <td>0.700000</td>\n",
       "    </tr>\n",
       "    <tr>\n",
       "      <th>156</th>\n",
       "      <td>0.901454</td>\n",
       "      <td>0.000000</td>\n",
       "      <td>15</td>\n",
       "      <td>42</td>\n",
       "      <td>2</td>\n",
       "      <td>0.685714</td>\n",
       "    </tr>\n",
       "    <tr>\n",
       "      <th>...</th>\n",
       "      <td>...</td>\n",
       "      <td>...</td>\n",
       "      <td>...</td>\n",
       "      <td>...</td>\n",
       "      <td>...</td>\n",
       "      <td>...</td>\n",
       "    </tr>\n",
       "    <tr>\n",
       "      <th>56</th>\n",
       "      <td>0.044600</td>\n",
       "      <td>0.000000</td>\n",
       "      <td>4</td>\n",
       "      <td>1</td>\n",
       "      <td>0</td>\n",
       "      <td>0.000000</td>\n",
       "    </tr>\n",
       "    <tr>\n",
       "      <th>113</th>\n",
       "      <td>0.931534</td>\n",
       "      <td>0.000000</td>\n",
       "      <td>1</td>\n",
       "      <td>84</td>\n",
       "      <td>0</td>\n",
       "      <td>0.983871</td>\n",
       "    </tr>\n",
       "    <tr>\n",
       "      <th>16</th>\n",
       "      <td>0.532247</td>\n",
       "      <td>0.047458</td>\n",
       "      <td>0</td>\n",
       "      <td>8</td>\n",
       "      <td>1</td>\n",
       "      <td>0.333333</td>\n",
       "    </tr>\n",
       "    <tr>\n",
       "      <th>158</th>\n",
       "      <td>0.052005</td>\n",
       "      <td>0.013459</td>\n",
       "      <td>11</td>\n",
       "      <td>10</td>\n",
       "      <td>2</td>\n",
       "      <td>0.421053</td>\n",
       "    </tr>\n",
       "    <tr>\n",
       "      <th>151</th>\n",
       "      <td>0.560761</td>\n",
       "      <td>0.438256</td>\n",
       "      <td>24</td>\n",
       "      <td>18</td>\n",
       "      <td>9</td>\n",
       "      <td>0.590909</td>\n",
       "    </tr>\n",
       "  </tbody>\n",
       "</table>\n",
       "<p>149 rows × 6 columns</p>\n",
       "</div>"
      ],
      "text/plain": [
       "         SL/A      LL/A  num_cases_0  num_cases_1  num_cases_2  cases_lost\n",
       "69   1.285121  0.059938            9           36            6    0.818182\n",
       "26   0.753591  0.000000           61           62            9    0.581395\n",
       "131  0.644236  0.347247           13           10            0    1.000000\n",
       "60   2.603160  0.000000            0           36            2    0.700000\n",
       "156  0.901454  0.000000           15           42            2    0.685714\n",
       "..        ...       ...          ...          ...          ...         ...\n",
       "56   0.044600  0.000000            4            1            0    0.000000\n",
       "113  0.931534  0.000000            1           84            0    0.983871\n",
       "16   0.532247  0.047458            0            8            1    0.333333\n",
       "158  0.052005  0.013459           11           10            2    0.421053\n",
       "151  0.560761  0.438256           24           18            9    0.590909\n",
       "\n",
       "[149 rows x 6 columns]"
      ]
     },
     "execution_count": 148,
     "metadata": {},
     "output_type": "execute_result"
    }
   ],
   "source": [
    "X_raw,X_test,y_raw,y_test  = train_test_split(X,\n",
    "                                              y,\n",
    "                                              test_size=0.1,\n",
    "                                              stratify = y)\n",
    "X_raw"
   ]
  },
  {
   "cell_type": "markdown",
   "metadata": {},
   "source": [
    "Разделим данные для кроссвалидации (используем 5 фолдов)"
   ]
  },
  {
   "cell_type": "code",
   "execution_count": 149,
   "metadata": {
    "collapsed": true,
    "jupyter": {
     "outputs_hidden": true
    },
    "tags": []
   },
   "outputs": [
    {
     "name": "stdout",
     "output_type": "stream",
     "text": [
      "Train: [  0   1   2   3   4   6   7   9  10  12  13  14  15  16  21  23  24  25\n",
      "  26  27  29  30  31  32  33  34  35  36  37  39  40  41  42  43  44  46\n",
      "  49  50  51  52  53  54  55  56  58  59  60  62  63  64  65  66  67  68\n",
      "  69  70  71  72  73  75  79  80  81  83  84  85  87  88  89  90  91  92\n",
      "  93  94  95  96  97  98  99 100 101 102 103 105 107 108 109 110 111 112\n",
      " 113 114 115 116 117 118 119 120 122 123 125 126 128 129 130 131 132 133\n",
      " 134 135 136 137 139 140 142 144 145 147 148] \n",
      "Test: [  5   8  11  17  18  19  20  22  28  38  45  47  48  57  61  74  76  77\n",
      "  78  82  86 104 106 121 124 127 138 141 143 146] \n",
      "\n",
      "Train: [  0   2   3   4   5   7   8   9  10  11  12  13  14  15  16  17  18  19\n",
      "  20  22  24  25  27  28  31  32  33  35  38  40  41  43  44  45  46  47\n",
      "  48  49  50  51  52  54  57  58  59  61  62  63  65  66  68  70  72  73\n",
      "  74  76  77  78  79  80  81  82  83  84  85  86  87  88  89  92  93  94\n",
      "  95  96  97  98  99 100 101 102 103 104 105 106 107 108 109 110 111 112\n",
      " 113 115 116 117 118 119 121 122 124 125 127 129 130 131 132 133 134 135\n",
      " 138 139 140 141 142 143 144 145 146 147 148] \n",
      "Test: [  1   6  21  23  26  29  30  34  36  37  39  42  53  55  56  60  64  67\n",
      "  69  71  75  90  91 114 120 123 126 128 136 137] \n",
      "\n",
      "Train: [  0   1   2   3   4   5   6   7   8  11  13  15  17  18  19  20  21  22\n",
      "  23  26  27  28  29  30  31  32  33  34  35  36  37  38  39  42  43  44\n",
      "  45  46  47  48  51  52  53  54  55  56  57  59  60  61  64  65  67  68\n",
      "  69  70  71  72  73  74  75  76  77  78  79  80  82  84  86  87  88  89\n",
      "  90  91  92  94  98  99 101 102 103 104 105 106 108 111 112 113 114 115\n",
      " 116 117 118 119 120 121 123 124 126 127 128 129 130 131 132 133 134 135\n",
      " 136 137 138 139 140 141 142 143 145 146 147] \n",
      "Test: [  9  10  12  14  16  24  25  40  41  49  50  58  62  63  66  81  83  85\n",
      "  93  95  96  97 100 107 109 110 122 125 144 148] \n",
      "\n",
      "Train: [  1   5   6   7   8   9  10  11  12  13  14  15  16  17  18  19  20  21\n",
      "  22  23  24  25  26  28  29  30  31  32  34  35  36  37  38  39  40  41\n",
      "  42  45  46  47  48  49  50  51  52  53  55  56  57  58  59  60  61  62\n",
      "  63  64  65  66  67  69  70  71  74  75  76  77  78  80  81  82  83  84\n",
      "  85  86  87  90  91  92  93  94  95  96  97  99 100 103 104 106 107 109\n",
      " 110 111 114 115 119 120 121 122 123 124 125 126 127 128 129 130 132 133\n",
      " 135 136 137 138 139 141 143 144 146 147 148] \n",
      "Test: [  0   2   3   4  27  33  43  44  54  68  72  73  79  88  89  98 101 102\n",
      " 105 108 112 113 116 117 118 131 134 140 142 145] \n",
      "\n",
      "Train: [  0   1   2   3   4   5   6   8   9  10  11  12  14  16  17  18  19  20\n",
      "  21  22  23  24  25  26  27  28  29  30  33  34  36  37  38  39  40  41\n",
      "  42  43  44  45  47  48  49  50  53  54  55  56  57  58  60  61  62  63\n",
      "  64  66  67  68  69  71  72  73  74  75  76  77  78  79  81  82  83  85\n",
      "  86  88  89  90  91  93  95  96  97  98 100 101 102 104 105 106 107 108\n",
      " 109 110 112 113 114 116 117 118 120 121 122 123 124 125 126 127 128 131\n",
      " 134 136 137 138 140 141 142 143 144 145 146 148] \n",
      "Test: [  7  13  15  31  32  35  46  51  52  59  65  70  80  84  87  92  94  99\n",
      " 103 111 115 119 129 130 132 133 135 139 147] \n",
      "\n",
      "------------------------------------------------------------------------------------\n",
      "Label Distributions: \n",
      "\n",
      "[0.36666667 0.63333333]\n",
      "[0.34482759 0.65517241]\n"
     ]
    }
   ],
   "source": [
    "sss = StratifiedKFold(n_splits=5, random_state=42, shuffle=True)\n",
    "\n",
    "for train_index, test_index in sss.split(X_raw,y_raw):\n",
    "    \n",
    "    print(\"Train:\", train_index, \"\\nTest:\", test_index, \"\\n\")\n",
    "    X_train_sm, X_val_sm = X_raw.iloc[train_index], X_raw.iloc[test_index]\n",
    "    y_train_sm, y_val_sm = y_raw.iloc[train_index], y_raw.iloc[test_index]\n",
    "\n",
    "X_train_sm = X_train_sm.values\n",
    "X_val_sm = X_val_sm.values\n",
    "y_train_sm = y_train_sm.values\n",
    "y_val_sm = y_val_sm.values\n",
    "\n",
    "train_unique_label, train_counts_label = np.unique(y_train_sm, return_counts=True)\n",
    "test_unique_label, test_counts_label = np.unique(y_val_sm, return_counts=True)\n",
    "print('-' * 84)\n",
    "\n",
    "print('Label Distributions: \\n')\n",
    "print(train_counts_label/ len(y_train_sm))\n",
    "print(test_counts_label/ len(y_val_sm))"
   ]
  },
  {
   "cell_type": "markdown",
   "metadata": {},
   "source": [
    "## Тренировка и валидация моделей\n",
    "Функции для удобной тренировки моделей и вывода AUC кривой"
   ]
  },
  {
   "cell_type": "code",
   "execution_count": 156,
   "metadata": {},
   "outputs": [],
   "source": [
    "def val_model(model, params):\n",
    "    accuracy= []\n",
    "    precision = []\n",
    "    recall = []\n",
    "    f1 = []\n",
    "    auc = []\n",
    "\n",
    "    param_cv = RandomizedSearchCV(model, params, n_iter=4)\n",
    "\n",
    "    for train, val in sss.split(X_train_sm, y_train_sm):\n",
    "        pipeline = make_pipeline(SMOTE(sampling_strategy='minority'), param_cv)\n",
    "\n",
    "        model_ = pipeline.fit(X_train_sm[train], y_train_sm[train])\n",
    "        best_est_ = param_cv.best_estimator_\n",
    "        prediction_ = best_est_.predict(X_train_sm[val])\n",
    "\n",
    "        accuracy.append(pipeline.score(X_train_sm[val], y_train_sm[val]))\n",
    "        precision.append(precision_score(y_train_sm[val], prediction_))\n",
    "        recall.append(recall_score(y_train_sm[val], prediction_))\n",
    "        f1.append(f1_score(y_train_sm[val], prediction_))\n",
    "        auc.append(roc_auc_score(y_train_sm[val], prediction_))\n",
    "        \n",
    "        auc_vals = roc_curve(y_train_sm[val], prediction_)\n",
    "    \n",
    "    print(model)\n",
    "    print(f\"accuracy: {np.mean(accuracy)}\")\n",
    "    print(f\"precision: {np.mean(precision)}\")\n",
    "    print(f\"recall: {np.mean(recall)}\")\n",
    "    print(f\"f1: {np.mean(f1)}\")\n",
    "    print(f\"roc-auc: {np.mean(auc)}\")\n",
    "    \n",
    "    label = ['Not bankrupt', 'Bankrupt']\n",
    "    pred = best_est_.predict(X_val_sm)\n",
    "    print(classification_report(y_val_sm, pred, target_names=label))\n",
    "    \n",
    "    sns.heatmap(confusion_matrix(y_val_sm, pred), annot=True)\n",
    "\n",
    "\n",
    "    \n",
    "    return np.mean(auc), auc_vals, best_est_\n",
    "\n",
    "def plot_roc(fpr, tpr, roc_auc):\n",
    "    plt.title('Receiver Operating Characteristic')\n",
    "    plt.plot(fpr, tpr, 'b', label = 'AUC = %0.2f' % roc_auc)\n",
    "    plt.legend(loc = 'lower right')\n",
    "    plt.plot([0, 1], [0, 1],'r--')\n",
    "    plt.xlim([0, 1])\n",
    "    plt.ylim([0, 1])\n",
    "    plt.ylabel('True Positive Rate')\n",
    "    plt.xlabel('False Positive Rate')\n",
    "    plt.show()\n",
    "    "
   ]
  },
  {
   "cell_type": "markdown",
   "metadata": {},
   "source": [
    "#### RandomForestClassifier"
   ]
  },
  {
   "cell_type": "code",
   "execution_count": 157,
   "metadata": {},
   "outputs": [
    {
     "name": "stdout",
     "output_type": "stream",
     "text": [
      "RandomForestClassifier()\n",
      "accuracy: 0.775\n",
      "precision: 0.8034451985922573\n",
      "recall: 0.8400000000000001\n",
      "f1: 0.8195486581729468\n",
      "roc-auc: 0.7505555555555556\n",
      "              precision    recall  f1-score   support\n",
      "\n",
      "Not bankrupt       0.43      0.30      0.35        10\n",
      "    Bankrupt       0.68      0.79      0.73        19\n",
      "\n",
      "    accuracy                           0.62        29\n",
      "   macro avg       0.56      0.54      0.54        29\n",
      "weighted avg       0.59      0.62      0.60        29\n",
      "\n"
     ]
    },
    {
     "data": {
      "image/png": "[encoded data removed]",
      "text/plain": [
       "<Figure size 432x288 with 2 Axes>"
      ]
     },
     "metadata": {
      "needs_background": "light"
     },
     "output_type": "display_data"
    }
   ],
   "source": [
    "from sklearn.linear_model import LogisticRegression\n",
    "from sklearn.ensemble import RandomForestClassifier\n",
    "import xgboost as xgb\n",
    "from catboost import CatBoostClassifier\n",
    "\n",
    "params = {'max_features' : ['auto', 'sqrt', 'log2'],\n",
    "              'random_state' : [42],\n",
    "              'class_weight' : ['balanced','balanced_subsample'],\n",
    "              'criterion' : ['gini', 'entropy'],\n",
    "              'bootstrap' : [True,False]}\n",
    "model = RandomForestClassifier()\n",
    "roc_auc, (fpr, tpr, threshold), rfc = val_model(model, params)"
   ]
  },
  {
   "cell_type": "code",
   "execution_count": 158,
   "metadata": {},
   "outputs": [
    {
     "data": {
      "image/png": "[encoded data removed]",
      "text/plain": [
       "<Figure size 432x288 with 1 Axes>"
      ]
     },
     "metadata": {
      "needs_background": "light"
     },
     "output_type": "display_data"
    }
   ],
   "source": [
    "plot_roc(fpr, tpr, roc_auc)"
   ]
  },
  {
   "cell_type": "markdown",
   "metadata": {},
   "source": [
    "#### XGB"
   ]
  },
  {
   "cell_type": "code",
   "execution_count": 173,
   "metadata": {},
   "outputs": [
    {
     "name": "stdout",
     "output_type": "stream",
     "text": [
      "XGBClassifier(base_score=None, booster=None, colsample_bylevel=None,\n",
      "              colsample_bynode=None, colsample_bytree=None, gamma=None,\n",
      "              gpu_id=None, importance_type='gain', interaction_constraints=None,\n",
      "              learning_rate=None, max_delta_step=None, max_depth=None,\n",
      "              min_child_weight=None, missing=nan, monotone_constraints=None,\n",
      "              n_estimators=100, n_jobs=None, num_parallel_tree=None,\n",
      "              random_state=42, reg_alpha=None, reg_lambda=None,\n",
      "              scale_pos_weight=None, subsample=None, tree_method=None,\n",
      "              use_label_encoder=False, validate_parameters=None,\n",
      "              verbosity=None)\n",
      "accuracy: 0.75\n",
      "precision: 0.8032993966817497\n",
      "recall: 0.7866666666666667\n",
      "f1: 0.7921814147620599\n",
      "roc-auc: 0.7363888888888889\n",
      "              precision    recall  f1-score   support\n",
      "\n",
      "Not bankrupt       0.33      0.30      0.32        10\n",
      "    Bankrupt       0.65      0.68      0.67        19\n",
      "\n",
      "    accuracy                           0.55        29\n",
      "   macro avg       0.49      0.49      0.49        29\n",
      "weighted avg       0.54      0.55      0.55        29\n",
      "\n"
     ]
    },
    {
     "data": {
      "image/png": "[encoded data removed]",
      "text/plain": [
       "<Figure size 432x288 with 2 Axes>"
      ]
     },
     "metadata": {
      "needs_background": "light"
     },
     "output_type": "display_data"
    }
   ],
   "source": [
    "params = {'eta' : [0.1,0.01,0.001], \n",
    "              'eval_metric': ['logloss'],\n",
    "              'max_depth' : [3,6,9],\n",
    "              'lambda' : [1,1.5,2],      \n",
    "              'alpha' : [0,0.5,1]} \n",
    "model = xgb.XGBClassifier(random_state = 42, use_label_encoder=False)\n",
    "\n",
    "roc_auc, (fpr, tpr, threshold), xgbc = val_model(model, params)"
   ]
  },
  {
   "cell_type": "code",
   "execution_count": 160,
   "metadata": {},
   "outputs": [
    {
     "data": {
      "image/png": "[encoded data removed]",
      "text/plain": [
       "<Figure size 432x288 with 1 Axes>"
      ]
     },
     "metadata": {
      "needs_background": "light"
     },
     "output_type": "display_data"
    }
   ],
   "source": [
    "plot_roc(fpr, tpr, roc_auc)"
   ]
  },
  {
   "cell_type": "markdown",
   "metadata": {},
   "source": [
    "#### CatBoostClassifier"
   ]
  },
  {
   "cell_type": "code",
   "execution_count": 161,
   "metadata": {},
   "outputs": [
    {
     "name": "stdout",
     "output_type": "stream",
     "text": [
      "<catboost.core.CatBoostClassifier object at 0x000002751FC521F0>\n",
      "accuracy: 0.825\n",
      "precision: 0.8645726495726496\n",
      "recall: 0.8533333333333333\n",
      "f1: 0.8564995030270174\n",
      "roc-auc: 0.812777777777778\n",
      "              precision    recall  f1-score   support\n",
      "\n",
      "Not bankrupt       0.56      0.50      0.53        10\n",
      "    Bankrupt       0.75      0.79      0.77        19\n",
      "\n",
      "    accuracy                           0.69        29\n",
      "   macro avg       0.65      0.64      0.65        29\n",
      "weighted avg       0.68      0.69      0.69        29\n",
      "\n"
     ]
    },
    {
     "data": {
      "image/png": "[encoded data removed]",
      "text/plain": [
       "<Figure size 432x288 with 2 Axes>"
      ]
     },
     "metadata": {
      "needs_background": "light"
     },
     "output_type": "display_data"
    }
   ],
   "source": [
    "params = {'eval_metric': ['F1'],\n",
    "              'iterations': [100,500,1000],\n",
    "              'learning_rate' : [0.1,0.01,0.001],\n",
    "              'random_seed' : [42],\n",
    "              'auto_class_weights' : ['Balanced','SqrtBalanced']\n",
    "             }\n",
    "model = CatBoostClassifier(verbose = 0)\n",
    "roc_auc, (fpr, tpr, threshold), cbc = val_model(model, params)"
   ]
  },
  {
   "cell_type": "code",
   "execution_count": 162,
   "metadata": {},
   "outputs": [
    {
     "data": {
      "image/png": "[encoded data removed]",
      "text/plain": [
       "<Figure size 432x288 with 1 Axes>"
      ]
     },
     "metadata": {
      "needs_background": "light"
     },
     "output_type": "display_data"
    }
   ],
   "source": [
    "plot_roc(fpr, tpr, roc_auc)"
   ]
  },
  {
   "cell_type": "markdown",
   "metadata": {},
   "source": [
    "## Проверка моделей на тестовых данных"
   ]
  },
  {
   "cell_type": "code",
   "execution_count": 165,
   "metadata": {},
   "outputs": [],
   "source": [
    "test_pred_rf = rfc.predict(X_test.values)\n",
    "test_pred_xgb = xgbc.predict(X_test.values) \n",
    "test_pred_cat = cbc.predict(X_test.values)"
   ]
  },
  {
   "cell_type": "code",
   "execution_count": 164,
   "metadata": {},
   "outputs": [
    {
     "data": {
      "image/png": "[encoded data removed]",
      "text/plain": [
       "<Figure size 1080x576 with 6 Axes>"
      ]
     },
     "metadata": {
      "needs_background": "light"
     },
     "output_type": "display_data"
    }
   ],
   "source": [
    "conf_mx0 = confusion_matrix(y_test,test_pred_rf)\n",
    "conf_mx1 = confusion_matrix(y_test,test_pred_xgb)\n",
    "conf_mx2 = confusion_matrix(y_test,test_pred_cat)\n",
    "\n",
    "heat_cm0 = pd.DataFrame(conf_mx0, columns=np.unique(y_test), index = np.unique(y_test))\n",
    "heat_cm0.index.name = 'Actual'\n",
    "heat_cm0.columns.name = 'Predicted'\n",
    "\n",
    "heat_cm1 = pd.DataFrame(conf_mx1, columns=np.unique(y_test), index = np.unique(y_test))\n",
    "heat_cm1.index.name = 'Actual'\n",
    "heat_cm1.columns.name = 'Predicted'\n",
    "\n",
    "heat_cm2 = pd.DataFrame(conf_mx2, columns=np.unique(y_test), index = np.unique(y_test))\n",
    "heat_cm2.index.name = 'Actual'\n",
    "heat_cm2.columns.name = 'Predicted'\n",
    "\n",
    "f, ax = plt.subplots(1, 3, figsize=(15,8))\n",
    "f.subplots_adjust(left=None, bottom=None, right= 2, top=None, wspace=None, hspace= None)\n",
    "\n",
    "sns.heatmap(heat_cm0, cmap=\"Blues\", annot=True, annot_kws={\"size\": 16},fmt='g', ax = ax[0])\n",
    "ax[0].set_title('Random Forest Classifier', fontsize = 20)\n",
    "sns.heatmap(heat_cm1, cmap=\"Blues\", annot=True, annot_kws={\"size\": 16},fmt='g', ax = ax[1])\n",
    "ax[1].set_title('XGB', fontsize = 20)\n",
    "sns.heatmap(heat_cm2, cmap=\"Blues\", annot=True, annot_kws={\"size\": 16},fmt='g', ax = ax[2])\n",
    "ax[2].set_title('Catboot Classifier', fontsize = 20)\n",
    "\n",
    "plt.show()"
   ]
  },
  {
   "cell_type": "code",
   "execution_count": 166,
   "metadata": {},
   "outputs": [
    {
     "name": "stdout",
     "output_type": "stream",
     "text": [
      "              precision    recall  f1-score   support\n",
      "\n",
      "           0       0.83      0.83      0.83         6\n",
      "           1       0.91      0.91      0.91        11\n",
      "\n",
      "    accuracy                           0.88        17\n",
      "   macro avg       0.87      0.87      0.87        17\n",
      "weighted avg       0.88      0.88      0.88        17\n",
      "\n",
      "              precision    recall  f1-score   support\n",
      "\n",
      "           0       0.86      1.00      0.92         6\n",
      "           1       1.00      0.91      0.95        11\n",
      "\n",
      "    accuracy                           0.94        17\n",
      "   macro avg       0.93      0.95      0.94        17\n",
      "weighted avg       0.95      0.94      0.94        17\n",
      "\n",
      "              precision    recall  f1-score   support\n",
      "\n",
      "           0       0.80      0.67      0.73         6\n",
      "           1       0.83      0.91      0.87        11\n",
      "\n",
      "    accuracy                           0.82        17\n",
      "   macro avg       0.82      0.79      0.80        17\n",
      "weighted avg       0.82      0.82      0.82        17\n",
      "\n"
     ]
    }
   ],
   "source": [
    "print(classification_report(y_test, test_pred_rf, target_names=['0', '1']))\n",
    "print(classification_report(y_test, test_pred_xgb, target_names=['0', '1']))\n",
    "print(classification_report(y_test, test_pred_cat, target_names=['0', '1']))"
   ]
  },
  {
   "cell_type": "markdown",
   "metadata": {},
   "source": [
    "## Вывод\n",
    "Можно заметить, что все 3 выбранных классификатора показывают хорошие результаты на тестовой выборке. Лучший F1-score у модели XGB. Однако для того чтобы более уверенно говорить о производительности моделей, необходимо тестировать их на большей выборке."
   ]
  }
 ],
 "metadata": {
  "kernelspec": {
   "display_name": "Python 3",
   "language": "python",
   "name": "python3"
  },
  "language_info": {
   "codemirror_mode": {
    "name": "ipython",
    "version": 3
   },
   "file_extension": ".py",
   "mimetype": "text/x-python",
   "name": "python",
   "nbconvert_exporter": "python",
   "pygments_lexer": "ipython3",
   "version": "3.8.5"
  }
 },
 "nbformat": 4,
 "nbformat_minor": 4
}
